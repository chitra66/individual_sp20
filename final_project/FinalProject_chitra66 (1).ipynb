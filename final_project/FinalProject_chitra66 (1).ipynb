{
 "cells": [
  {
   "cell_type": "markdown",
   "metadata": {},
   "source": [
    "# COGS 108 - Final Project "
   ]
  },
  {
   "cell_type": "markdown",
   "metadata": {},
   "source": [
    "# Overview"
   ]
  },
  {
   "cell_type": "markdown",
   "metadata": {},
   "source": [
    "Interacting with people over food is important for personal and professional relationships and takes many forms, including eating at restaurants. When we go out with our friends, families, and colleagues it is crucial that we go to restaurants that are safe and healthy. One way to ensure that our restaurants are inspected are through random health inspections that are unique to each county; in these random health inspections, many things- such as temperature, hygiene, meat/food processing- are checked to make sure that they follow CDC and FDA guidelines. Customer ratings and health inspections are two of the ways that restaurants are kept accountable; this is why I wanted to know if publicizing the health inspection scores on a platform, like Yelp, would improve health in restaurants. After conducting an analysis on this topic, the data does not suggest that publicizing ratings makes restaurants healthier in the future. "
   ]
  },
  {
   "cell_type": "markdown",
   "metadata": {},
   "source": [
    "# Name & GitHub\n",
    "\n",
    "- Name: Chitra Kulkarni\n",
    "- GitHub Username: chitra66"
   ]
  },
  {
   "cell_type": "markdown",
   "metadata": {},
   "source": [
    "# Research Question"
   ]
  },
  {
   "cell_type": "markdown",
   "metadata": {},
   "source": [
    "Does publicizing the health inspection score on platforms, like Yelp, improve the restaurant's overall health (as seen in future inspections) in popular cities such as Raleigh, North Carolina?"
   ]
  },
  {
   "cell_type": "markdown",
   "metadata": {},
   "source": [
    "## Background and Prior Work"
   ]
  },
  {
   "cell_type": "markdown",
   "metadata": {},
   "source": [
    "To begin this process, the first thing to research is to look at the restaurant health inspection processes in Raleigh, North Carolina, located in Wake County. In Wake County, restaurants are inspected one to four times a year, depending on what they serve and their food processing [1]. In NC, the grading of food establishments is based on a system of scoring, in which a score of 90 or higher will receive a grade of A, between 80-90 will receive a B, between 70-80 will receive a C; if an establishment receives a score of less than 70, their permit is immediately revoked [2]. In NC, there are 4 risk categories which determine the frequency of the inspections: risk category 1 is for establishments with no potentially hazardous foods, risk category 2 is for establishments with no more than 2 potentially hazardous foods, risk category 3 is for establishments with no more than 3 potentially hazardous foods, and risk category 4 is for establishments with unlimited number of potentially hazardous foods [3]. Risk factors, according to the definitions put forth by the CDC and FDA, are \"food preparation practices and employee behaviors most commonly reported to the CDC as contributing factors in foodborne illness outbreaks. [3]\"\n",
    "\n",
    "In an attempt to provide more information to help their customers, Yelp started adding health inspection scores onto their website and apps. This move was based on prior research done on restaurants in LA where restaurants would have to post grade cards in their window. This new rule resulted in a decrease in foodborne illnesses for over two years in the LA area [4]. Since Raleigh, NC is a busy city because of tourism, Yelp started adding restaurant health sanitation scores from March of 2015 [5].\n",
    "\n",
    "One example of someone who has tried to use scores to test a value of an item is a research project done on if there is a correlation between the price of wine and its corresponding WineEnthusiast score? This project relates to my research question because it is comparing if an item is better or worse based on its score; similarly, I am interested in seeing if the Yelp ratings and health inspection scores posted on Yelp make a restaurant more or less health-conscious [6].\n",
    "\n",
    "References (include links):\n",
    "\n",
    "1)http://www.wakegov.com/food/healthinspections/facilities/Pages/restaurants.aspx\n",
    "\n",
    "2)https://public.cdpehs.com/NCENVPBL/ESTABLISHMENT/ShowRestaurantRules.aspx\n",
    "\n",
    "3)https://ehs.ncpublichealth.com/faf/docs/foodprot/NC-MarkingInstructionsFinal-110419.pdf\n",
    "\n",
    "4)https://www.washingtonpost.com/news/voraciously/wp/2018/07/24/yelp-adds-health-inspection-scores-for-restaurants-and-restaurateurs-are-not-happy/\n",
    "\n",
    "5)https://gcn.com/articles/2015/03/02/yelp-city-restaurant-inspections.aspx\n",
    "\n",
    "6)FinalProject_group085.ipynb"
   ]
  },
  {
   "cell_type": "markdown",
   "metadata": {},
   "source": [
    "# Hypothesis\n"
   ]
  },
  {
   "cell_type": "markdown",
   "metadata": {},
   "source": [
    "Since restaurants depend on customers' ratings and reviews for their businesses, I believe that publicizing health inspection scores on Yelp will improve overall restaurant health. Especially when customers write reviews regarding any problems that could reflect a restaurant’s health, other customers will be discouraged to go there; additionally, to improve their ratings, restaurants would be more willing to improve their health standards to pass the next inspection.\n",
    "\n"
   ]
  },
  {
   "cell_type": "markdown",
   "metadata": {},
   "source": [
    "# Dataset(s)"
   ]
  },
  {
   "cell_type": "markdown",
   "metadata": {},
   "source": [
    "I used three datasets for this analysis. The first dataset was inspections.csv, which captures all sanitation/health inspections from September 2012 to present. For my analysis, I specifically used the hsisid (state code identifying the restaurant), the facility type (to narrow my analysis to only restaurants), the city (to keep my analysis to just Raleigh, NC), and the zipcode for the restaurants. This dataset had 18466 rows x 36 columns. The second dataset I used was the violations.csv, which has 189802 rows x 18 columns, and describes all violations (and reports which code was violated) at active restaurants in Wake County, from September 2012 to present. In this dataset, I specifically used the hsisid (which is how I merged inspections.csv with violations.csv), violation type, and health inspection scores. There are three violation types described in this dataset: CDI, which is corrected during inspection; VR, which indicates that verification is required within 10 days; and lastly, R, which indicates a repeat offense [1]. The third dataset I used was the yelp.csv (which had 3688 rows x 31 columns), which had information about the restaurants's yelp ratings. From this database, I used the zipcode and ratings information. I used the zipcodes to merge this dataset with violations.csv. \n",
    "\n",
    "1) https://ehs.ncpublichealth.com/faf/docs/foodprot/NC-MarkingInstructionsFinal-110419.pdf"
   ]
  },
  {
   "cell_type": "markdown",
   "metadata": {},
   "source": [
    "# Setup"
   ]
  },
  {
   "cell_type": "code",
   "execution_count": 10,
   "metadata": {},
   "outputs": [],
   "source": [
    "#imports\n",
    "import numpy as np\n",
    "import pandas as pd\n",
    "import matplotlib.pyplot as plt\n",
    "   \n",
    "import seaborn as sns\n",
    "sns.set()\n",
    "sns.set_context('talk')"
   ]
  },
  {
   "cell_type": "code",
   "execution_count": 11,
   "metadata": {},
   "outputs": [],
   "source": [
    "#read data\n",
    "df_insp = pd.read_csv(\"/home/cnkulkar/Project/Data/inspections.csv\")\n",
    "df_viol = pd.read_csv(\"/home/cnkulkar/Project/Data/violations.csv\")\n",
    "df_yelp = pd.read_csv(\"/home/cnkulkar/Project/Data/yelp.csv\")"
   ]
  },
  {
   "cell_type": "markdown",
   "metadata": {},
   "source": [
    "# Data Cleaning"
   ]
  },
  {
   "cell_type": "code",
   "execution_count": 12,
   "metadata": {},
   "outputs": [],
   "source": [
    "#clean df_insp\n",
    "df_insp = df_insp.drop(columns = ['date', 'phonenumber', 'top_match', 'second_match', 'days_from_open_date', 'x', 'y', 'geocodestatus', 'type', 'inspectedby', 'inspector_id', 'previous_inspection_by_same_inspector'])\n",
    "\n",
    "#clean df_viol\n",
    "df_viol = df_viol.drop(columns = ['inspectedby'])\n",
    "\n",
    "#clean df_yelp\n",
    "df_yelp = df_yelp.drop(columns = ['latitude', 'longitude', 'phone', 'hotdogs', 'sandwiches', 'pizza', 'tradamerican', 'burgers', 'mexican', 'grocery', 'breakfast_brunch', 'coffee', 'chinese', 'italian', 'newamerican', 'chicken_wings', 'delis', 'bars', 'salad', 'seafood', 'bbq', 'bakeries', 'sushi'])\n",
    "df_yelp = df_yelp.rename(columns={'zip_code': 'zip'})"
   ]
  },
  {
   "cell_type": "code",
   "execution_count": 13,
   "metadata": {},
   "outputs": [
    {
     "data": {
      "text/html": [
       "<div>\n",
       "<style scoped>\n",
       "    .dataframe tbody tr th:only-of-type {\n",
       "        vertical-align: middle;\n",
       "    }\n",
       "\n",
       "    .dataframe tbody tr th {\n",
       "        vertical-align: top;\n",
       "    }\n",
       "\n",
       "    .dataframe thead th {\n",
       "        text-align: right;\n",
       "    }\n",
       "</style>\n",
       "<table border=\"1\" class=\"dataframe\">\n",
       "  <thead>\n",
       "    <tr style=\"text-align: right;\">\n",
       "      <th></th>\n",
       "      <th>hsisid</th>\n",
       "      <th>name</th>\n",
       "      <th>address1</th>\n",
       "      <th>address2</th>\n",
       "      <th>city</th>\n",
       "      <th>state</th>\n",
       "      <th>postalcode</th>\n",
       "      <th>restaurantopendate</th>\n",
       "      <th>facilitytype</th>\n",
       "      <th>zip</th>\n",
       "      <th>...</th>\n",
       "      <th>violationcode</th>\n",
       "      <th>severity</th>\n",
       "      <th>shortdesc</th>\n",
       "      <th>comments</th>\n",
       "      <th>pointvalue</th>\n",
       "      <th>observationtype</th>\n",
       "      <th>violationtype</th>\n",
       "      <th>count</th>\n",
       "      <th>cdcriskfactor</th>\n",
       "      <th>cdcdataitem</th>\n",
       "    </tr>\n",
       "  </thead>\n",
       "  <tbody>\n",
       "    <tr>\n",
       "      <th>0</th>\n",
       "      <td>4092013748</td>\n",
       "      <td>Cafe 3000 At Wake Med</td>\n",
       "      <td>3000 New Bern Ave</td>\n",
       "      <td>NaN</td>\n",
       "      <td>raleigh</td>\n",
       "      <td>NC</td>\n",
       "      <td>27610</td>\n",
       "      <td>2002-12-21T00:00:00Z</td>\n",
       "      <td>Restaurant</td>\n",
       "      <td>27610</td>\n",
       "      <td>...</td>\n",
       "      <td>3-603.11</td>\n",
       "      <td>Priority Foundation</td>\n",
       "      <td>Consumer advisory provided for raw or undercoo...</td>\n",
       "      <td>3-603.11; Priority Foundation; Establishment f...</td>\n",
       "      <td>0</td>\n",
       "      <td>Out</td>\n",
       "      <td>CDI</td>\n",
       "      <td>NaN</td>\n",
       "      <td>NaN</td>\n",
       "      <td>NaN</td>\n",
       "    </tr>\n",
       "    <tr>\n",
       "      <th>1</th>\n",
       "      <td>4092013748</td>\n",
       "      <td>Cafe 3000 At Wake Med</td>\n",
       "      <td>3000 New Bern Ave</td>\n",
       "      <td>NaN</td>\n",
       "      <td>raleigh</td>\n",
       "      <td>NC</td>\n",
       "      <td>27610</td>\n",
       "      <td>2002-12-21T00:00:00Z</td>\n",
       "      <td>Restaurant</td>\n",
       "      <td>27610</td>\n",
       "      <td>...</td>\n",
       "      <td>3-502.11</td>\n",
       "      <td>Priority Foundation</td>\n",
       "      <td>Compliance with variance, specialized process,...</td>\n",
       "      <td>Pf - 3-502.11 Variance Requirement - Establish...</td>\n",
       "      <td>0</td>\n",
       "      <td>Out</td>\n",
       "      <td>CDI</td>\n",
       "      <td>NaN</td>\n",
       "      <td>NaN</td>\n",
       "      <td>NaN</td>\n",
       "    </tr>\n",
       "    <tr>\n",
       "      <th>2</th>\n",
       "      <td>4092013748</td>\n",
       "      <td>Cafe 3000 At Wake Med</td>\n",
       "      <td>3000 New Bern Ave</td>\n",
       "      <td>NaN</td>\n",
       "      <td>raleigh</td>\n",
       "      <td>NC</td>\n",
       "      <td>27610</td>\n",
       "      <td>2002-12-21T00:00:00Z</td>\n",
       "      <td>Restaurant</td>\n",
       "      <td>27610</td>\n",
       "      <td>...</td>\n",
       "      <td>3-603.11</td>\n",
       "      <td>Priority Foundation</td>\n",
       "      <td>Consumer advisory provided for raw or undercoo...</td>\n",
       "      <td>Pf - 3-603.11 Consumption of Animal Foods that...</td>\n",
       "      <td>0</td>\n",
       "      <td>Out</td>\n",
       "      <td>R</td>\n",
       "      <td>NaN</td>\n",
       "      <td>NaN</td>\n",
       "      <td>NaN</td>\n",
       "    </tr>\n",
       "    <tr>\n",
       "      <th>3</th>\n",
       "      <td>4092013748</td>\n",
       "      <td>Cafe 3000 At Wake Med</td>\n",
       "      <td>3000 New Bern Ave</td>\n",
       "      <td>NaN</td>\n",
       "      <td>raleigh</td>\n",
       "      <td>NC</td>\n",
       "      <td>27610</td>\n",
       "      <td>2002-12-21T00:00:00Z</td>\n",
       "      <td>Restaurant</td>\n",
       "      <td>27610</td>\n",
       "      <td>...</td>\n",
       "      <td>3-603.11</td>\n",
       "      <td>Priority Foundation</td>\n",
       "      <td>Consumer advisory provided for raw or undercoo...</td>\n",
       "      <td>Pf - 3-603.11 Consumption of Animal Foods that...</td>\n",
       "      <td>0</td>\n",
       "      <td>Out</td>\n",
       "      <td>VR</td>\n",
       "      <td>NaN</td>\n",
       "      <td>NaN</td>\n",
       "      <td>NaN</td>\n",
       "    </tr>\n",
       "    <tr>\n",
       "      <th>4</th>\n",
       "      <td>4092013748</td>\n",
       "      <td>Cafe 3000 At Wake Med</td>\n",
       "      <td>3000 New Bern Ave</td>\n",
       "      <td>NaN</td>\n",
       "      <td>raleigh</td>\n",
       "      <td>NC</td>\n",
       "      <td>27610</td>\n",
       "      <td>2002-12-21T00:00:00Z</td>\n",
       "      <td>Restaurant</td>\n",
       "      <td>27610</td>\n",
       "      <td>...</td>\n",
       "      <td>8-201.13</td>\n",
       "      <td>Core</td>\n",
       "      <td>Compliance with variance, specialized process,...</td>\n",
       "      <td>Raw fish is used for sushi (sushi chef not pre...</td>\n",
       "      <td>0</td>\n",
       "      <td>Out</td>\n",
       "      <td>NaN</td>\n",
       "      <td>NaN</td>\n",
       "      <td>NaN</td>\n",
       "      <td>NaN</td>\n",
       "    </tr>\n",
       "  </tbody>\n",
       "</table>\n",
       "<p>5 rows × 40 columns</p>\n",
       "</div>"
      ],
      "text/plain": [
       "       hsisid                   name           address1 address2     city  \\\n",
       "0  4092013748  Cafe 3000 At Wake Med  3000 New Bern Ave      NaN  raleigh   \n",
       "1  4092013748  Cafe 3000 At Wake Med  3000 New Bern Ave      NaN  raleigh   \n",
       "2  4092013748  Cafe 3000 At Wake Med  3000 New Bern Ave      NaN  raleigh   \n",
       "3  4092013748  Cafe 3000 At Wake Med  3000 New Bern Ave      NaN  raleigh   \n",
       "4  4092013748  Cafe 3000 At Wake Med  3000 New Bern Ave      NaN  raleigh   \n",
       "\n",
       "  state postalcode    restaurantopendate facilitytype    zip  ...  \\\n",
       "0    NC      27610  2002-12-21T00:00:00Z   Restaurant  27610  ...   \n",
       "1    NC      27610  2002-12-21T00:00:00Z   Restaurant  27610  ...   \n",
       "2    NC      27610  2002-12-21T00:00:00Z   Restaurant  27610  ...   \n",
       "3    NC      27610  2002-12-21T00:00:00Z   Restaurant  27610  ...   \n",
       "4    NC      27610  2002-12-21T00:00:00Z   Restaurant  27610  ...   \n",
       "\n",
       "  violationcode             severity  \\\n",
       "0      3-603.11  Priority Foundation   \n",
       "1      3-502.11  Priority Foundation   \n",
       "2      3-603.11  Priority Foundation   \n",
       "3      3-603.11  Priority Foundation   \n",
       "4      8-201.13                 Core   \n",
       "\n",
       "                                           shortdesc  \\\n",
       "0  Consumer advisory provided for raw or undercoo...   \n",
       "1  Compliance with variance, specialized process,...   \n",
       "2  Consumer advisory provided for raw or undercoo...   \n",
       "3  Consumer advisory provided for raw or undercoo...   \n",
       "4  Compliance with variance, specialized process,...   \n",
       "\n",
       "                                            comments  pointvalue  \\\n",
       "0  3-603.11; Priority Foundation; Establishment f...           0   \n",
       "1  Pf - 3-502.11 Variance Requirement - Establish...           0   \n",
       "2  Pf - 3-603.11 Consumption of Animal Foods that...           0   \n",
       "3  Pf - 3-603.11 Consumption of Animal Foods that...           0   \n",
       "4  Raw fish is used for sushi (sushi chef not pre...           0   \n",
       "\n",
       "   observationtype  violationtype  count  cdcriskfactor  cdcdataitem  \n",
       "0              Out            CDI    NaN            NaN          NaN  \n",
       "1              Out            CDI    NaN            NaN          NaN  \n",
       "2              Out              R    NaN            NaN          NaN  \n",
       "3              Out             VR    NaN            NaN          NaN  \n",
       "4              Out            NaN    NaN            NaN          NaN  \n",
       "\n",
       "[5 rows x 40 columns]"
      ]
     },
     "execution_count": 13,
     "metadata": {},
     "output_type": "execute_result"
    }
   ],
   "source": [
    "#merge the inspections.csv with violations.csv, using the hsisid\n",
    "df = pd.merge(df_insp, df_viol, on = 'hsisid')\n",
    "df.head()"
   ]
  },
  {
   "cell_type": "code",
   "execution_count": 15,
   "metadata": {},
   "outputs": [
    {
     "data": {
      "text/html": [
       "<div>\n",
       "<style scoped>\n",
       "    .dataframe tbody tr th:only-of-type {\n",
       "        vertical-align: middle;\n",
       "    }\n",
       "\n",
       "    .dataframe tbody tr th {\n",
       "        vertical-align: top;\n",
       "    }\n",
       "\n",
       "    .dataframe thead th {\n",
       "        text-align: right;\n",
       "    }\n",
       "</style>\n",
       "<table border=\"1\" class=\"dataframe\">\n",
       "  <thead>\n",
       "    <tr style=\"text-align: right;\">\n",
       "      <th></th>\n",
       "      <th>hsisid</th>\n",
       "      <th>name_x</th>\n",
       "      <th>address1_x</th>\n",
       "      <th>address2</th>\n",
       "      <th>city</th>\n",
       "      <th>state</th>\n",
       "      <th>postalcode</th>\n",
       "      <th>restaurantopendate</th>\n",
       "      <th>facilitytype</th>\n",
       "      <th>zip</th>\n",
       "      <th>...</th>\n",
       "      <th>avg_neighbor_num_critical</th>\n",
       "      <th>avg_neighbor_num_non_critical</th>\n",
       "      <th>critical</th>\n",
       "      <th>id</th>\n",
       "      <th>name_y</th>\n",
       "      <th>is_closed</th>\n",
       "      <th>rating</th>\n",
       "      <th>review_count</th>\n",
       "      <th>address1_y</th>\n",
       "      <th>price</th>\n",
       "    </tr>\n",
       "  </thead>\n",
       "  <tbody>\n",
       "    <tr>\n",
       "      <th>0</th>\n",
       "      <td>4092013748</td>\n",
       "      <td>Cafe 3000 At Wake Med</td>\n",
       "      <td>3000 New Bern Ave</td>\n",
       "      <td>NaN</td>\n",
       "      <td>raleigh</td>\n",
       "      <td>NC</td>\n",
       "      <td>27610</td>\n",
       "      <td>2002-12-21T00:00:00Z</td>\n",
       "      <td>Restaurant</td>\n",
       "      <td>27610</td>\n",
       "      <td>...</td>\n",
       "      <td>NaN</td>\n",
       "      <td>NaN</td>\n",
       "      <td>1</td>\n",
       "      <td>best-western-raleigh-inn-and-suites-raleigh</td>\n",
       "      <td>holiday inn express &amp; suites raleigh ne - medi...</td>\n",
       "      <td>False</td>\n",
       "      <td>3.0</td>\n",
       "      <td>7</td>\n",
       "      <td>3618 New Bern Ave</td>\n",
       "      <td>$$</td>\n",
       "    </tr>\n",
       "    <tr>\n",
       "      <th>1</th>\n",
       "      <td>4092013748</td>\n",
       "      <td>Cafe 3000 At Wake Med</td>\n",
       "      <td>3000 New Bern Ave</td>\n",
       "      <td>NaN</td>\n",
       "      <td>raleigh</td>\n",
       "      <td>NC</td>\n",
       "      <td>27610</td>\n",
       "      <td>2002-12-21T00:00:00Z</td>\n",
       "      <td>Restaurant</td>\n",
       "      <td>27610</td>\n",
       "      <td>...</td>\n",
       "      <td>NaN</td>\n",
       "      <td>NaN</td>\n",
       "      <td>1</td>\n",
       "      <td>walnut-creek-ampitheatre-raleigh</td>\n",
       "      <td>walnut creek ampitheatre</td>\n",
       "      <td>False</td>\n",
       "      <td>3.0</td>\n",
       "      <td>44</td>\n",
       "      <td>3801 Rock Quarry Rd</td>\n",
       "      <td>$$</td>\n",
       "    </tr>\n",
       "    <tr>\n",
       "      <th>2</th>\n",
       "      <td>4092013748</td>\n",
       "      <td>Cafe 3000 At Wake Med</td>\n",
       "      <td>3000 New Bern Ave</td>\n",
       "      <td>NaN</td>\n",
       "      <td>raleigh</td>\n",
       "      <td>NC</td>\n",
       "      <td>27610</td>\n",
       "      <td>2002-12-21T00:00:00Z</td>\n",
       "      <td>Restaurant</td>\n",
       "      <td>27610</td>\n",
       "      <td>...</td>\n",
       "      <td>NaN</td>\n",
       "      <td>NaN</td>\n",
       "      <td>1</td>\n",
       "      <td>kfc-raleigh-7</td>\n",
       "      <td>kfc</td>\n",
       "      <td>False</td>\n",
       "      <td>2.0</td>\n",
       "      <td>5</td>\n",
       "      <td>3408 Poole Road</td>\n",
       "      <td>$</td>\n",
       "    </tr>\n",
       "    <tr>\n",
       "      <th>3</th>\n",
       "      <td>4092013748</td>\n",
       "      <td>Cafe 3000 At Wake Med</td>\n",
       "      <td>3000 New Bern Ave</td>\n",
       "      <td>NaN</td>\n",
       "      <td>raleigh</td>\n",
       "      <td>NC</td>\n",
       "      <td>27610</td>\n",
       "      <td>2002-12-21T00:00:00Z</td>\n",
       "      <td>Restaurant</td>\n",
       "      <td>27610</td>\n",
       "      <td>...</td>\n",
       "      <td>NaN</td>\n",
       "      <td>NaN</td>\n",
       "      <td>1</td>\n",
       "      <td>sheetz-raleigh</td>\n",
       "      <td>sheetz</td>\n",
       "      <td>False</td>\n",
       "      <td>3.5</td>\n",
       "      <td>6</td>\n",
       "      <td>5200 New Bern Ave</td>\n",
       "      <td>$</td>\n",
       "    </tr>\n",
       "    <tr>\n",
       "      <th>4</th>\n",
       "      <td>4092013748</td>\n",
       "      <td>Cafe 3000 At Wake Med</td>\n",
       "      <td>3000 New Bern Ave</td>\n",
       "      <td>NaN</td>\n",
       "      <td>raleigh</td>\n",
       "      <td>NC</td>\n",
       "      <td>27610</td>\n",
       "      <td>2002-12-21T00:00:00Z</td>\n",
       "      <td>Restaurant</td>\n",
       "      <td>27610</td>\n",
       "      <td>...</td>\n",
       "      <td>NaN</td>\n",
       "      <td>NaN</td>\n",
       "      <td>1</td>\n",
       "      <td>walmart-raleigh-3</td>\n",
       "      <td>walmart</td>\n",
       "      <td>False</td>\n",
       "      <td>2.0</td>\n",
       "      <td>12</td>\n",
       "      <td>4431 New Bern Ave</td>\n",
       "      <td>$</td>\n",
       "    </tr>\n",
       "  </tbody>\n",
       "</table>\n",
       "<p>5 rows × 31 columns</p>\n",
       "</div>"
      ],
      "text/plain": [
       "       hsisid                 name_x         address1_x address2     city  \\\n",
       "0  4092013748  Cafe 3000 At Wake Med  3000 New Bern Ave      NaN  raleigh   \n",
       "1  4092013748  Cafe 3000 At Wake Med  3000 New Bern Ave      NaN  raleigh   \n",
       "2  4092013748  Cafe 3000 At Wake Med  3000 New Bern Ave      NaN  raleigh   \n",
       "3  4092013748  Cafe 3000 At Wake Med  3000 New Bern Ave      NaN  raleigh   \n",
       "4  4092013748  Cafe 3000 At Wake Med  3000 New Bern Ave      NaN  raleigh   \n",
       "\n",
       "  state postalcode    restaurantopendate facilitytype    zip  ...  \\\n",
       "0    NC      27610  2002-12-21T00:00:00Z   Restaurant  27610  ...   \n",
       "1    NC      27610  2002-12-21T00:00:00Z   Restaurant  27610  ...   \n",
       "2    NC      27610  2002-12-21T00:00:00Z   Restaurant  27610  ...   \n",
       "3    NC      27610  2002-12-21T00:00:00Z   Restaurant  27610  ...   \n",
       "4    NC      27610  2002-12-21T00:00:00Z   Restaurant  27610  ...   \n",
       "\n",
       "  avg_neighbor_num_critical  avg_neighbor_num_non_critical critical  \\\n",
       "0                       NaN                            NaN        1   \n",
       "1                       NaN                            NaN        1   \n",
       "2                       NaN                            NaN        1   \n",
       "3                       NaN                            NaN        1   \n",
       "4                       NaN                            NaN        1   \n",
       "\n",
       "                                            id  \\\n",
       "0  best-western-raleigh-inn-and-suites-raleigh   \n",
       "1             walnut-creek-ampitheatre-raleigh   \n",
       "2                                kfc-raleigh-7   \n",
       "3                               sheetz-raleigh   \n",
       "4                            walmart-raleigh-3   \n",
       "\n",
       "                                              name_y  is_closed  rating  \\\n",
       "0  holiday inn express & suites raleigh ne - medi...      False     3.0   \n",
       "1                           walnut creek ampitheatre      False     3.0   \n",
       "2                                                kfc      False     2.0   \n",
       "3                                             sheetz      False     3.5   \n",
       "4                                            walmart      False     2.0   \n",
       "\n",
       "   review_count           address1_y  price  \n",
       "0             7    3618 New Bern Ave     $$  \n",
       "1            44  3801 Rock Quarry Rd     $$  \n",
       "2             5      3408 Poole Road      $  \n",
       "3             6    5200 New Bern Ave      $  \n",
       "4            12    4431 New Bern Ave      $  \n",
       "\n",
       "[5 rows x 31 columns]"
      ]
     },
     "execution_count": 15,
     "metadata": {},
     "output_type": "execute_result"
    }
   ],
   "source": [
    "#merge the inspections.csv and yelp.csv dataframes with the zipcodes\n",
    "df2 = pd.merge(df_insp, df_yelp, on = 'zip')\n",
    "\n",
    "#make sure that the data includes only restaurants that are in the Raleigh\n",
    "df2 = df2.drop(df2[df2['facilitytype'] != 'Restaurant'].index)\n",
    "df2 = df2.drop(df2[df2['city'] != 'raleigh'].index)\n",
    "df2.head()"
   ]
  },
  {
   "cell_type": "code",
   "execution_count": 16,
   "metadata": {},
   "outputs": [
    {
     "data": {
      "text/plain": [
       "<matplotlib.axes._subplots.AxesSubplot at 0x7f27aa056908>"
      ]
     },
     "execution_count": 16,
     "metadata": {},
     "output_type": "execute_result"
    },
    {
     "data": {
      "image/png": "[encoded data removed]",
      "text/plain": [
       "<Figure size 432x288 with 1 Axes>"
      ]
     },
     "metadata": {},
     "output_type": "display_data"
    }
   ],
   "source": [
    "#graph zip and score, grouping by the zip code \n",
    "z = df.groupby(df['zip'])\n",
    "sns.scatterplot(x = df['zip'], y = df2['score'])"
   ]
  },
  {
   "cell_type": "code",
   "execution_count": 17,
   "metadata": {},
   "outputs": [
    {
     "data": {
      "image/png": "[encoded data removed]",
      "text/plain": [
       "<Figure size 432x288 with 1 Axes>"
      ]
     },
     "metadata": {},
     "output_type": "display_data"
    }
   ],
   "source": [
    "#check the spread of zipcodes, grouping by the zip codes\n",
    "df.groupby(df['zip'])\n",
    "zip_plot = df['zip'].plot.hist(bins = 20)"
   ]
  },
  {
   "cell_type": "markdown",
   "metadata": {},
   "source": [
    "# Data Analysis & Results"
   ]
  },
  {
   "cell_type": "code",
   "execution_count": 19,
   "metadata": {},
   "outputs": [
    {
     "data": {
      "image/png": "[encoded data removed]",
      "text/plain": [
       "<Figure size 432x288 with 1 Axes>"
      ]
     },
     "metadata": {},
     "output_type": "display_data"
    }
   ],
   "source": [
    "#plot the frequency of the health inspection scores, using yelp and inspections data\n",
    "score_plot = df2['score'].plot.hist(bins = 20)"
   ]
  },
  {
   "cell_type": "code",
   "execution_count": 20,
   "metadata": {},
   "outputs": [
    {
     "data": {
      "image/png": "[encoded data removed]",
      "text/plain": [
       "<Figure size 432x288 with 1 Axes>"
      ]
     },
     "metadata": {},
     "output_type": "display_data"
    }
   ],
   "source": [
    "#plot the frequency of the yelp rating, using yelp and inspections data\n",
    "rating_plot = df2['rating'].plot.hist(bins = 20)"
   ]
  },
  {
   "cell_type": "code",
   "execution_count": 21,
   "metadata": {},
   "outputs": [],
   "source": [
    "#transform to be able to see the absolute change instead of the relative change\n",
    "df2['score'] = np.log10(df2['score'])\n",
    "df2['rating'] = np.log10(df2['rating'])"
   ]
  },
  {
   "cell_type": "code",
   "execution_count": 26,
   "metadata": {},
   "outputs": [
    {
     "data": {
      "text/plain": [
       "<matplotlib.axes._subplots.AxesSubplot at 0x7f27a7868320>"
      ]
     },
     "execution_count": 26,
     "metadata": {},
     "output_type": "execute_result"
    },
    {
     "data": {
      "image/png": "[encoded data removed]",
      "text/plain": [
       "<Figure size 432x288 with 1 Axes>"
      ]
     },
     "metadata": {},
     "output_type": "display_data"
    }
   ],
   "source": [
    "#graph the log_transformation of health inspection scores\n",
    "df2['score'].plot(kind = 'hist', bins = 25)"
   ]
  },
  {
   "cell_type": "code",
   "execution_count": 25,
   "metadata": {},
   "outputs": [
    {
     "data": {
      "text/plain": [
       "<matplotlib.axes._subplots.AxesSubplot at 0x7f278b98cb38>"
      ]
     },
     "execution_count": 25,
     "metadata": {},
     "output_type": "execute_result"
    },
    {
     "data": {
      "image/png": "[encoded data removed]",
      "text/plain": [
       "<Figure size 432x288 with 1 Axes>"
      ]
     },
     "metadata": {},
     "output_type": "display_data"
    }
   ],
   "source": [
    "#graph the log_transformations of yelp rating\n",
    "df2['rating'].plot(kind = 'hist', bins = 25)"
   ]
  },
  {
   "cell_type": "code",
   "execution_count": 28,
   "metadata": {},
   "outputs": [
    {
     "data": {
      "text/plain": [
       "<matplotlib.axes._subplots.AxesSubplot at 0x7f27987fbb00>"
      ]
     },
     "execution_count": 28,
     "metadata": {},
     "output_type": "execute_result"
    },
    {
     "data": {
      "image/png": "[encoded data removed]",
      "text/plain": [
       "<Figure size 432x288 with 1 Axes>"
      ]
     },
     "metadata": {},
     "output_type": "display_data"
    }
   ],
   "source": [
    "#graph the rating as the x-axis and score as the y-axis\n",
    "sns.scatterplot(x = df2['rating'], y = df2['score'], data = df2)"
   ]
  },
  {
   "cell_type": "markdown",
   "metadata": {},
   "source": [
    "# Ethics & Privacy"
   ]
  },
  {
   "cell_type": "markdown",
   "metadata": {},
   "source": [
    "Since health inspections and their reports are public record, it was crucial to remove the names of health inspectors, their ID's, and anything that would identify them for privacy reasons. Since privacy concerns are more related to individual people, rather than establishments, I did not remove any identifying information for the restaurants, including zipcodes, addresses, hsisid, and phone numbers. \n",
    "\n",
    "On the other hand, there are more considerations when it comes to ethics than privacy in this analysis. Firstly, I only conducted my analysis in one city in US; there is a danger that the results of this analysis could be used to describe restaurants all over the country, which would be wrong. One ethics concern from the start of this analysis, is the bias that comes from choosing only restaurants in only one area. One way to reduce this bias is using all restaurants in Raleigh, and not choosing certain restaurants, which is what I did. In addition, it is crucial in the discussion section to explain how the results are only applicable to Raleigh's restaurants and their connection to Yelp reviews. Lastly, the health inspection informtion is already public but connecting yelp reviews to those inspections could be used to argue against the importance of health inspections, which is not the goal of the analysis. "
   ]
  },
  {
   "cell_type": "markdown",
   "metadata": {},
   "source": [
    "# Conclusion & Discussion"
   ]
  },
  {
   "cell_type": "markdown",
   "metadata": {},
   "source": [
    "Based on this analysis, I can conclude that in Raleigh, NC, the ratings on yelp do not influence future health inspection scores; my hypothesis that the ratings would make restaurants healthier is wrong.\n",
    "\n",
    "One issue I encountered in my analysis was the fact that there were more retaurants from a specific zip code than other zip codes, which is illustrated in the first few graphs which show a skew when graphing the zip code with the scores. However, one I explored this data a bit more, I realized that this skew was not because of health inspection scores, but actually a result of the dataset having more restaurants in the 27600 zip. This is when I decided it would be better to answer the question I asked if I just directly compared the scores to the ratings.\n",
    "\n",
    "Another limitation of the data related to the health inspection process and reports. First, the reports contain mostly non-numerical items, which cannot be used in a numerical analysis. Second, even though this data went back to 2012, the fields that were considered in the analysis would not reflect changes in the process, if any."
   ]
  }
 ],
 "metadata": {
  "kernelspec": {
   "display_name": "Python 3",
   "language": "python",
   "name": "python3"
  },
  "language_info": {
   "codemirror_mode": {
    "name": "ipython",
    "version": 3
   },
   "file_extension": ".py",
   "mimetype": "text/x-python",
   "name": "python",
   "nbconvert_exporter": "python",
   "pygments_lexer": "ipython3",
   "version": "3.6.7"
  }
 },
 "nbformat": 4,
 "nbformat_minor": 2
}
